{
 "cells": [
  {
   "cell_type": "markdown",
   "metadata": {},
   "source": [
    "Define train/test set from the two main principal components:\n"
   ]
  },
  {
   "cell_type": "code",
   "execution_count": 19,
   "metadata": {},
   "outputs": [],
   "source": [
    "data_train = np.array(X_train_PCA.values)\n",
    "data_test = np.array(X_test_PCA.values)"
   ]
  },
  {
   "cell_type": "code",
   "execution_count": null,
   "metadata": {},
   "outputs": [],
   "source": [
    "Calculate the covariance matrix and its inverse, based on data in the training set:"
   ]
  },
  {
   "cell_type": "code",
   "execution_count": 20,
   "metadata": {},
   "outputs": [],
   "source": [
    "cov_matrix, inv_cov_matrix  = cov_matrix(data_train)"
   ]
  },
  {
   "cell_type": "markdown",
   "metadata": {},
   "source": [
    "We also calculate the mean value for the input variables in the training set, as this is used later to calculate the Mahalanobis distance to datapoints in the test set"
   ]
  },
  {
   "cell_type": "code",
   "execution_count": 21,
   "metadata": {},
   "outputs": [],
   "source": [
    "mean_distr = data_train.mean(axis=0)\n"
   ]
  },
  {
   "cell_type": "markdown",
   "metadata": {},
   "source": [
    "Using the covariance matrix and its inverse, we can calculate the Mahalanobis distance for the training data defining “normal conditions”, and find the threshold value to flag datapoints as an anomaly. One can then calculate the Mahalanobis distance for the datapoints in the test set, and compare that with the anomaly threshold.\n"
   ]
  },
  {
   "cell_type": "code",
   "execution_count": 23,
   "metadata": {},
   "outputs": [],
   "source": [
    "dist_test = MahalanobisDist(inv_cov_matrix, mean_distr, data_test, verbose=False)\n",
    "dist_train = MahalanobisDist(inv_cov_matrix, mean_distr, data_train, verbose=False)\n",
    "threshold = MD_threshold(dist_train, extreme = True)\n"
   ]
  },
  {
   "cell_type": "markdown",
   "metadata": {},
   "source": [
    "Threshold value for flagging an anomaly:"
   ]
  },
  {
   "cell_type": "code",
   "execution_count": 28,
   "metadata": {},
   "outputs": [
    {
     "data": {
      "text/plain": [
       "(0.0, 15)"
      ]
     },
     "execution_count": 28,
     "metadata": {},
     "output_type": "execute_result"
    },
    {
     "data": {
      "image/png": "[encoded data removed]",
      "text/plain": [
       "<Figure size 432x288 with 1 Axes>"
      ]
     },
     "metadata": {
      "needs_background": "light"
     },
     "output_type": "display_data"
    }
   ],
   "source": [
    "plt.figure()\n",
    "sns.distplot(np.square(dist_train),\n",
    "             bins = 10, \n",
    "             kde= False);\n",
    "plt.xlim([0.0,15])"
   ]
  },
  {
   "cell_type": "markdown",
   "metadata": {},
   "source": [
    "Then visualize the Mahalanobis distance itself:"
   ]
  },
  {
   "cell_type": "code",
   "execution_count": 29,
   "metadata": {},
   "outputs": [
    {
     "data": {
      "text/plain": [
       "Text(0.5, 0, 'Mahalanobis dist')"
      ]
     },
     "execution_count": 29,
     "metadata": {},
     "output_type": "execute_result"
    },
    {
     "data": {
      "image/png": "[encoded data removed]",
      "text/plain": [
       "<Figure size 432x288 with 1 Axes>"
      ]
     },
     "metadata": {
      "needs_background": "light"
     },
     "output_type": "display_data"
    }
   ],
   "source": [
    "plt.figure()\n",
    "sns.distplot(dist_train,\n",
    "             bins = 10, \n",
    "             kde= True, \n",
    "            color = 'green');\n",
    "plt.xlim([0.0,5])\n",
    "plt.xlabel('Mahalanobis dist')"
   ]
  },
  {
   "cell_type": "code",
   "execution_count": 31,
   "metadata": {},
   "outputs": [
    {
     "data": {
      "text/plain": [
       "3.8120454918056756"
      ]
     },
     "execution_count": 31,
     "metadata": {},
     "output_type": "execute_result"
    }
   ],
   "source": [
    "threshold"
   ]
  },
  {
   "cell_type": "markdown",
   "metadata": {},
   "source": [
    "From the above distributions, the calculated threshold value of 3.8 for flagging an anomaly seems reasonable (defined as 3 standard deviations from the center of the distribution)"
   ]
  },
  {
   "cell_type": "markdown",
   "metadata": {},
   "source": [
    "We can then save the Mahalanobis distance, as well as the threshold value and “anomaly flag” variable for both train and test data in a dataframe:"
   ]
  },
  {
   "cell_type": "code",
   "execution_count": 34,
   "metadata": {},
   "outputs": [
    {
     "data": {
      "text/html": [
       "<div>\n",
       "<style scoped>\n",
       "    .dataframe tbody tr th:only-of-type {\n",
       "        vertical-align: middle;\n",
       "    }\n",
       "\n",
       "    .dataframe tbody tr th {\n",
       "        vertical-align: top;\n",
       "    }\n",
       "\n",
       "    .dataframe thead th {\n",
       "        text-align: right;\n",
       "    }\n",
       "</style>\n",
       "<table border=\"1\" class=\"dataframe\">\n",
       "  <thead>\n",
       "    <tr style=\"text-align: right;\">\n",
       "      <th></th>\n",
       "      <th>Mob dist</th>\n",
       "      <th>Thresh</th>\n",
       "      <th>Anomaly</th>\n",
       "    </tr>\n",
       "  </thead>\n",
       "  <tbody>\n",
       "    <tr>\n",
       "      <th>2004-02-13 23:52:39</th>\n",
       "      <td>1.032676</td>\n",
       "      <td>3.812045</td>\n",
       "      <td>False</td>\n",
       "    </tr>\n",
       "    <tr>\n",
       "      <th>2004-02-14 00:02:39</th>\n",
       "      <td>1.148163</td>\n",
       "      <td>3.812045</td>\n",
       "      <td>False</td>\n",
       "    </tr>\n",
       "    <tr>\n",
       "      <th>2004-02-14 00:12:39</th>\n",
       "      <td>1.509998</td>\n",
       "      <td>3.812045</td>\n",
       "      <td>False</td>\n",
       "    </tr>\n",
       "    <tr>\n",
       "      <th>2004-02-14 00:22:39</th>\n",
       "      <td>1.849725</td>\n",
       "      <td>3.812045</td>\n",
       "      <td>False</td>\n",
       "    </tr>\n",
       "    <tr>\n",
       "      <th>2004-02-14 00:32:39</th>\n",
       "      <td>0.701075</td>\n",
       "      <td>3.812045</td>\n",
       "      <td>False</td>\n",
       "    </tr>\n",
       "    <tr>\n",
       "      <th>...</th>\n",
       "      <td>...</td>\n",
       "      <td>...</td>\n",
       "      <td>...</td>\n",
       "    </tr>\n",
       "    <tr>\n",
       "      <th>2004-02-19 05:42:39</th>\n",
       "      <td>295.672654</td>\n",
       "      <td>3.812045</td>\n",
       "      <td>True</td>\n",
       "    </tr>\n",
       "    <tr>\n",
       "      <th>2004-02-19 05:52:39</th>\n",
       "      <td>208.319859</td>\n",
       "      <td>3.812045</td>\n",
       "      <td>True</td>\n",
       "    </tr>\n",
       "    <tr>\n",
       "      <th>2004-02-19 06:02:39</th>\n",
       "      <td>229.263413</td>\n",
       "      <td>3.812045</td>\n",
       "      <td>True</td>\n",
       "    </tr>\n",
       "    <tr>\n",
       "      <th>2004-02-19 06:12:39</th>\n",
       "      <td>105.693490</td>\n",
       "      <td>3.812045</td>\n",
       "      <td>True</td>\n",
       "    </tr>\n",
       "    <tr>\n",
       "      <th>2004-02-19 06:22:39</th>\n",
       "      <td>107.275401</td>\n",
       "      <td>3.812045</td>\n",
       "      <td>True</td>\n",
       "    </tr>\n",
       "  </tbody>\n",
       "</table>\n",
       "<p>760 rows × 3 columns</p>\n",
       "</div>"
      ],
      "text/plain": [
       "                       Mob dist    Thresh  Anomaly\n",
       "2004-02-13 23:52:39    1.032676  3.812045    False\n",
       "2004-02-14 00:02:39    1.148163  3.812045    False\n",
       "2004-02-14 00:12:39    1.509998  3.812045    False\n",
       "2004-02-14 00:22:39    1.849725  3.812045    False\n",
       "2004-02-14 00:32:39    0.701075  3.812045    False\n",
       "...                         ...       ...      ...\n",
       "2004-02-19 05:42:39  295.672654  3.812045     True\n",
       "2004-02-19 05:52:39  208.319859  3.812045     True\n",
       "2004-02-19 06:02:39  229.263413  3.812045     True\n",
       "2004-02-19 06:12:39  105.693490  3.812045     True\n",
       "2004-02-19 06:22:39  107.275401  3.812045     True\n",
       "\n",
       "[760 rows x 3 columns]"
      ]
     },
     "execution_count": 34,
     "metadata": {},
     "output_type": "execute_result"
    }
   ],
   "source": [
    "anomaly_train = pd.DataFrame()\n",
    "anomaly_train['Mob dist']= dist_train\n",
    "anomaly_train['Thresh'] = threshold\n",
    "# If Mob dist above threshold: Flag as anomaly\n",
    "anomaly_train['Anomaly'] = anomaly_train['Mob dist'] > anomaly_train['Thresh']\n",
    "anomaly_train.index = X_train_PCA.index\n",
    "anomaly = pd.DataFrame()\n",
    "anomaly['Mob dist']= dist_test\n",
    "anomaly['Thresh'] = threshold\n",
    "# If Mob dist above threshold: Flag as anomaly\n",
    "anomaly['Anomaly'] = anomaly['Mob dist'] > anomaly['Thresh']\n",
    "anomaly.index = X_test_PCA.index\n",
    "anomaly"
   ]
  },
  {
   "cell_type": "code",
   "execution_count": 33,
   "metadata": {},
   "outputs": [
    {
     "data": {
      "text/html": [
       "<div>\n",
       "<style scoped>\n",
       "    .dataframe tbody tr th:only-of-type {\n",
       "        vertical-align: middle;\n",
       "    }\n",
       "\n",
       "    .dataframe tbody tr th {\n",
       "        vertical-align: top;\n",
       "    }\n",
       "\n",
       "    .dataframe thead th {\n",
       "        text-align: right;\n",
       "    }\n",
       "</style>\n",
       "<table border=\"1\" class=\"dataframe\">\n",
       "  <thead>\n",
       "    <tr style=\"text-align: right;\">\n",
       "      <th></th>\n",
       "      <th>Mob dist</th>\n",
       "      <th>Thresh</th>\n",
       "      <th>Anomaly</th>\n",
       "    </tr>\n",
       "  </thead>\n",
       "  <tbody>\n",
       "    <tr>\n",
       "      <th>2004-02-13 23:52:39</th>\n",
       "      <td>1.032676</td>\n",
       "      <td>3.812045</td>\n",
       "      <td>False</td>\n",
       "    </tr>\n",
       "    <tr>\n",
       "      <th>2004-02-14 00:02:39</th>\n",
       "      <td>1.148163</td>\n",
       "      <td>3.812045</td>\n",
       "      <td>False</td>\n",
       "    </tr>\n",
       "    <tr>\n",
       "      <th>2004-02-14 00:12:39</th>\n",
       "      <td>1.509998</td>\n",
       "      <td>3.812045</td>\n",
       "      <td>False</td>\n",
       "    </tr>\n",
       "    <tr>\n",
       "      <th>2004-02-14 00:22:39</th>\n",
       "      <td>1.849725</td>\n",
       "      <td>3.812045</td>\n",
       "      <td>False</td>\n",
       "    </tr>\n",
       "    <tr>\n",
       "      <th>2004-02-14 00:32:39</th>\n",
       "      <td>0.701075</td>\n",
       "      <td>3.812045</td>\n",
       "      <td>False</td>\n",
       "    </tr>\n",
       "    <tr>\n",
       "      <th>...</th>\n",
       "      <td>...</td>\n",
       "      <td>...</td>\n",
       "      <td>...</td>\n",
       "    </tr>\n",
       "    <tr>\n",
       "      <th>2004-02-19 05:42:39</th>\n",
       "      <td>295.672654</td>\n",
       "      <td>3.812045</td>\n",
       "      <td>True</td>\n",
       "    </tr>\n",
       "    <tr>\n",
       "      <th>2004-02-19 05:52:39</th>\n",
       "      <td>208.319859</td>\n",
       "      <td>3.812045</td>\n",
       "      <td>True</td>\n",
       "    </tr>\n",
       "    <tr>\n",
       "      <th>2004-02-19 06:02:39</th>\n",
       "      <td>229.263413</td>\n",
       "      <td>3.812045</td>\n",
       "      <td>True</td>\n",
       "    </tr>\n",
       "    <tr>\n",
       "      <th>2004-02-19 06:12:39</th>\n",
       "      <td>105.693490</td>\n",
       "      <td>3.812045</td>\n",
       "      <td>True</td>\n",
       "    </tr>\n",
       "    <tr>\n",
       "      <th>2004-02-19 06:22:39</th>\n",
       "      <td>107.275401</td>\n",
       "      <td>3.812045</td>\n",
       "      <td>True</td>\n",
       "    </tr>\n",
       "  </tbody>\n",
       "</table>\n",
       "<p>760 rows × 3 columns</p>\n",
       "</div>"
      ],
      "text/plain": [
       "                       Mob dist    Thresh  Anomaly\n",
       "2004-02-13 23:52:39    1.032676  3.812045    False\n",
       "2004-02-14 00:02:39    1.148163  3.812045    False\n",
       "2004-02-14 00:12:39    1.509998  3.812045    False\n",
       "2004-02-14 00:22:39    1.849725  3.812045    False\n",
       "2004-02-14 00:32:39    0.701075  3.812045    False\n",
       "...                         ...       ...      ...\n",
       "2004-02-19 05:42:39  295.672654  3.812045     True\n",
       "2004-02-19 05:52:39  208.319859  3.812045     True\n",
       "2004-02-19 06:02:39  229.263413  3.812045     True\n",
       "2004-02-19 06:12:39  105.693490  3.812045     True\n",
       "2004-02-19 06:22:39  107.275401  3.812045     True\n",
       "\n",
       "[760 rows x 3 columns]"
      ]
     },
     "execution_count": 33,
     "metadata": {},
     "output_type": "execute_result"
    }
   ],
   "source": [
    "anomaly"
   ]
  },
  {
   "cell_type": "code",
   "execution_count": 35,
   "metadata": {},
   "outputs": [],
   "source": [
    "anomaly_alldata = pd.concat([anomaly_train, anomaly])\n",
    "anomaly_alldata.to_csv('Anomaly_distance.csv')\n"
   ]
  },
  {
   "cell_type": "code",
   "execution_count": 36,
   "metadata": {},
   "outputs": [
    {
     "data": {
      "text/html": [
       "<div>\n",
       "<style scoped>\n",
       "    .dataframe tbody tr th:only-of-type {\n",
       "        vertical-align: middle;\n",
       "    }\n",
       "\n",
       "    .dataframe tbody tr th {\n",
       "        vertical-align: top;\n",
       "    }\n",
       "\n",
       "    .dataframe thead th {\n",
       "        text-align: right;\n",
       "    }\n",
       "</style>\n",
       "<table border=\"1\" class=\"dataframe\">\n",
       "  <thead>\n",
       "    <tr style=\"text-align: right;\">\n",
       "      <th></th>\n",
       "      <th>Mob dist</th>\n",
       "      <th>Thresh</th>\n",
       "      <th>Anomaly</th>\n",
       "    </tr>\n",
       "  </thead>\n",
       "  <tbody>\n",
       "    <tr>\n",
       "      <th>2004-02-12 11:02:39</th>\n",
       "      <td>1.667002</td>\n",
       "      <td>3.812045</td>\n",
       "      <td>False</td>\n",
       "    </tr>\n",
       "    <tr>\n",
       "      <th>2004-02-12 11:12:39</th>\n",
       "      <td>1.699415</td>\n",
       "      <td>3.812045</td>\n",
       "      <td>False</td>\n",
       "    </tr>\n",
       "    <tr>\n",
       "      <th>2004-02-12 11:22:39</th>\n",
       "      <td>2.671968</td>\n",
       "      <td>3.812045</td>\n",
       "      <td>False</td>\n",
       "    </tr>\n",
       "    <tr>\n",
       "      <th>2004-02-12 11:32:39</th>\n",
       "      <td>1.424617</td>\n",
       "      <td>3.812045</td>\n",
       "      <td>False</td>\n",
       "    </tr>\n",
       "    <tr>\n",
       "      <th>2004-02-12 11:42:39</th>\n",
       "      <td>1.624601</td>\n",
       "      <td>3.812045</td>\n",
       "      <td>False</td>\n",
       "    </tr>\n",
       "    <tr>\n",
       "      <th>...</th>\n",
       "      <td>...</td>\n",
       "      <td>...</td>\n",
       "      <td>...</td>\n",
       "    </tr>\n",
       "    <tr>\n",
       "      <th>2004-02-19 05:42:39</th>\n",
       "      <td>295.672654</td>\n",
       "      <td>3.812045</td>\n",
       "      <td>True</td>\n",
       "    </tr>\n",
       "    <tr>\n",
       "      <th>2004-02-19 05:52:39</th>\n",
       "      <td>208.319859</td>\n",
       "      <td>3.812045</td>\n",
       "      <td>True</td>\n",
       "    </tr>\n",
       "    <tr>\n",
       "      <th>2004-02-19 06:02:39</th>\n",
       "      <td>229.263413</td>\n",
       "      <td>3.812045</td>\n",
       "      <td>True</td>\n",
       "    </tr>\n",
       "    <tr>\n",
       "      <th>2004-02-19 06:12:39</th>\n",
       "      <td>105.693490</td>\n",
       "      <td>3.812045</td>\n",
       "      <td>True</td>\n",
       "    </tr>\n",
       "    <tr>\n",
       "      <th>2004-02-19 06:22:39</th>\n",
       "      <td>107.275401</td>\n",
       "      <td>3.812045</td>\n",
       "      <td>True</td>\n",
       "    </tr>\n",
       "  </tbody>\n",
       "</table>\n",
       "<p>982 rows × 3 columns</p>\n",
       "</div>"
      ],
      "text/plain": [
       "                       Mob dist    Thresh  Anomaly\n",
       "2004-02-12 11:02:39    1.667002  3.812045    False\n",
       "2004-02-12 11:12:39    1.699415  3.812045    False\n",
       "2004-02-12 11:22:39    2.671968  3.812045    False\n",
       "2004-02-12 11:32:39    1.424617  3.812045    False\n",
       "2004-02-12 11:42:39    1.624601  3.812045    False\n",
       "...                         ...       ...      ...\n",
       "2004-02-19 05:42:39  295.672654  3.812045     True\n",
       "2004-02-19 05:52:39  208.319859  3.812045     True\n",
       "2004-02-19 06:02:39  229.263413  3.812045     True\n",
       "2004-02-19 06:12:39  105.693490  3.812045     True\n",
       "2004-02-19 06:22:39  107.275401  3.812045     True\n",
       "\n",
       "[982 rows x 3 columns]"
      ]
     },
     "execution_count": 36,
     "metadata": {},
     "output_type": "execute_result"
    }
   ],
   "source": [
    "anomaly_alldata"
   ]
  },
  {
   "cell_type": "markdown",
   "metadata": {},
   "source": [
    "Verifying PCA model on test data:\n",
    "Plot the calculated anomaly metric (Mob dist), and check when it crosses the anomaly threshold (note the logarithmic y-axis)."
   ]
  },
  {
   "cell_type": "code",
   "execution_count": 37,
   "metadata": {},
   "outputs": [
    {
     "data": {
      "text/plain": [
       "<matplotlib.axes._subplots.AxesSubplot at 0x7faa4733b390>"
      ]
     },
     "execution_count": 37,
     "metadata": {},
     "output_type": "execute_result"
    },
    {
     "data": {
      "image/png": "[encoded data removed]",
      "text/plain": [
       "<Figure size 720x432 with 1 Axes>"
      ]
     },
     "metadata": {
      "needs_background": "light"
     },
     "output_type": "display_data"
    }
   ],
   "source": [
    "anomaly_alldata.plot(logy=True, figsize = (10,6), ylim = [1e-1,1e3], color = ['green','red'])"
   ]
  },
  {
   "cell_type": "code",
   "execution_count": null,
   "metadata": {},
   "outputs": [],
   "source": []
  }
 ],
 "metadata": {
  "kernelspec": {
   "display_name": "Python 3",
   "language": "python",
   "name": "python3"
  },
  "language_info": {
   "codemirror_mode": {
    "name": "ipython",
    "version": 3
   },
   "file_extension": ".py",
   "mimetype": "text/x-python",
   "name": "python",
   "nbconvert_exporter": "python",
   "pygments_lexer": "ipython3",
   "version": "3.7.6"
  }
 },
 "nbformat": 4,
 "nbformat_minor": 4
}
